{
 "cells": [
  {
   "cell_type": "markdown",
   "metadata": {},
   "source": [
    "---\n",
    "\n",
    "_You are currently looking at **version 1.1** of this notebook. To download\n",
    "notebooks and datafiles, as well as get help on Jupyter notebooks in the\n",
    "Coursera platform, visit the [Jupyter Notebook\n",
    "FAQ](https://www.coursera.org/learn/python-data-analysis/resources/0dhYG) course\n",
    "resource._\n",
    "\n",
    "---"
   ]
  },
  {
   "cell_type": "code",
   "execution_count": 1,
   "metadata": {
    "attributes": {
     "classes": [],
     "id": "",
     "n": "1"
    }
   },
   "outputs": [],
   "source": [
    "import numpy as np\n",
    "import pandas as pd\n",
    "from scipy.stats import ttest_ind"
   ]
  },
  {
   "cell_type": "markdown",
   "metadata": {},
   "source": [
    "# Assignment 4 - Hypothesis Testing\n",
    "This assignment requires more individual learning than previous assignments -\n",
    "you are encouraged to check out the [pandas\n",
    "documentation](http://pandas.pydata.org/pandas-docs/stable/) to find functions\n",
    "or methods you might not have used yet, or ask questions on [Stack\n",
    "Overflow](http://stackoverflow.com/) and tag them as pandas and python related.\n",
    "And of course, the discussion forums are open for interaction with your peers\n",
    "and the course staff.\n",
    "\n",
    "Definitions:\n",
    "* A _quarter_ is a specific three month period, Q1 is January through March, Q2\n",
    "is April through June, Q3 is July through September, Q4 is October through\n",
    "December.\n",
    "* A _recession_ is defined as starting with two consecutive quarters of GDP\n",
    "decline, and ending with two consecutive quarters of GDP growth.\n",
    "* A _recession bottom_ is the quarter within a recession which had the lowest\n",
    "GDP.\n",
    "* A _university town_ is a city which has a high percentage of university\n",
    "students compared to the total population of the city.\n",
    "\n",
    "**Hypothesis**: University towns have their mean housing prices less effected by\n",
    "recessions. Run a t-test to compare the ratio of the mean price of houses in\n",
    "university towns the quarter before the recession starts compared to the\n",
    "recession bottom. (`price_ratio=quarter_before_recession/recession_bottom`)\n",
    "\n",
    "The following data files are available for this assignment:\n",
    "* From the [Zillow research data site](http://www.zillow.com/research/data/)\n",
    "there is housing data for the United States. In particular the datafile for [all\n",
    "homes at a city\n",
    "level](http://files.zillowstatic.com/research/public/City/City_Zhvi_AllHomes.csv),\n",
    "`City_Zhvi_AllHomes.csv`, has median home sale prices at a fine grained\n",
    "level.\n",
    "* From the Wikipedia page on college towns is a list of [university towns in the\n",
    "United\n",
    "States](https://en.wikipedia.org/wiki/List_of_college_towns#College_towns_in_the_United_States)\n",
    "which has been copy and pasted into the file `university_towns.txt`.\n",
    "* From Bureau of Economic Analysis, US Department of Commerce, the [GDP over\n",
    "time](http://www.bea.gov/national/index.htm#gdp) of the United States in current\n",
    "dollars (use the chained value in 2009 dollars), in quarterly intervals, in the\n",
    "file `gdplev.xls`. For this assignment, only look at GDP data from the first\n",
    "quarter of 2000 onward.\n",
    "\n",
    "Each function in this assignment below is worth 10%, with the exception of\n",
    "`run_ttest()`, which is worth 50%."
   ]
  },
  {
   "cell_type": "code",
   "execution_count": 2,
   "metadata": {
    "attributes": {
     "classes": [],
     "id": "",
     "n": "2"
    }
   },
   "outputs": [],
   "source": [
    "# Use this dictionary to map state names to two letter acronyms:\n",
    "states = {\n",
    "    'AK': 'Alaska',\n",
    "    'AL': 'Alabama',\n",
    "    'AR': 'Arkansas',\n",
    "    'AS': 'American Samoa',\n",
    "    'AZ': 'Arizona',\n",
    "    'CA': 'California',\n",
    "    'CO': 'Colorado',\n",
    "    'CT': 'Connecticut',\n",
    "    'DC': 'District of Columbia',\n",
    "    'DE': 'Delaware',\n",
    "    'FL': 'Florida',\n",
    "    'GA': 'Georgia',\n",
    "    'GU': 'Guam',\n",
    "    'HI': 'Hawaii',\n",
    "    'IA': 'Iowa',\n",
    "    'ID': 'Idaho',\n",
    "    'IL': 'Illinois',\n",
    "    'IN': 'Indiana',\n",
    "    'KS': 'Kansas',\n",
    "    'KY': 'Kentucky',\n",
    "    'LA': 'Louisiana',\n",
    "    'MA': 'Massachusetts',\n",
    "    'MD': 'Maryland',\n",
    "    'ME': 'Maine',\n",
    "    'MI': 'Michigan',\n",
    "    'MN': 'Minnesota',\n",
    "    'MO': 'Missouri',\n",
    "    'MP': 'Northern Mariana Islands',\n",
    "    'MS': 'Mississippi',\n",
    "    'MT': 'Montana',\n",
    "    'NA': 'National',\n",
    "    'NC': 'North Carolina',\n",
    "    'ND': 'North Dakota',\n",
    "    'NE': 'Nebraska',\n",
    "    'NH': 'New Hampshire',\n",
    "    'NJ': 'New Jersey',\n",
    "    'NM': 'New Mexico',\n",
    "    'NV': 'Nevada',\n",
    "    'NY': 'New York',\n",
    "    'OH': 'Ohio',\n",
    "    'OK': 'Oklahoma',\n",
    "    'OR': 'Oregon',\n",
    "    'PA': 'Pennsylvania',\n",
    "    'PR': 'Puerto Rico',\n",
    "    'RI': 'Rhode Island',\n",
    "    'SC': 'South Carolina',\n",
    "    'SD': 'South Dakota',\n",
    "    'TN': 'Tennessee',\n",
    "    'TX': 'Texas',\n",
    "    'UT': 'Utah',\n",
    "    'VA': 'Virginia',\n",
    "    'VI': 'Virgin Islands',\n",
    "    'VT': 'Vermont',\n",
    "    'WA': 'Washington',\n",
    "    'WI': 'Wisconsin',\n",
    "    'WV': 'West Virginia',\n",
    "    'WY': 'Wyoming'\n",
    "}"
   ]
  },
  {
   "cell_type": "code",
   "execution_count": 3,
   "metadata": {
    "attributes": {
     "classes": [],
     "id": "",
     "n": "3"
    }
   },
   "outputs": [],
   "source": [
    "def get_list_of_university_towns():\n",
    "    \"\"\"Return a DataFrame of towns and the states they are in.\"\"\"\n",
    "\n",
    "    # Read the text file, and load the records into a list:\n",
    "    records = []\n",
    "    with open('university_towns.txt', 'r') as txt_file:\n",
    "        for line in txt_file:\n",
    "            if '[edit]' in line:\n",
    "                state = line.split('[')[0]\n",
    "            else:\n",
    "                town = line.split(' (')[0].strip()\n",
    "                records.append([state, town])\n",
    "\n",
    "    return pd.DataFrame(data=records, columns=['State', 'RegionName'])"
   ]
  },
  {
   "cell_type": "code",
   "execution_count": 4,
   "metadata": {
    "attributes": {
     "classes": [],
     "id": "",
     "n": "4"
    }
   },
   "outputs": [],
   "source": [
    "# Read GDP data from 'gdplev.xls':\n",
    "gdp = pd.read_excel(\n",
    "    header=None,\n",
    "    io='gdplev.xls',\n",
    "    names=['Year Quarter', 'GDP Billions'],\n",
    "    nrows=66,\n",
    "    skiprows=220,\n",
    "    usecols=[4, 6]\n",
    ").set_index('Year Quarter')\n",
    "\n",
    "# Add to 'gdp' two columns of Boolean values, 'Decline?' and 'Growth?'. For a\n",
    "# given period, they tell us if there was GDP decline or growth with respect to\n",
    "# the next period.\n",
    "gdp['Decline?'] = gdp['GDP Billions'].gt(gdp['GDP Billions'].shift(-1))\n",
    "gdp['Growth?'] = gdp['Decline?'].apply(lambda t: not t)"
   ]
  },
  {
   "cell_type": "code",
   "execution_count": 5,
   "metadata": {
    "attributes": {
     "classes": [],
     "id": "",
     "n": "5"
    }
   },
   "outputs": [],
   "source": [
    "def get_recession_start():\n",
    "    \"\"\"Return year and quarter of the recession start.\"\"\"\n",
    "    return (gdp['Decline?'] & gdp['Decline?'].shift(-1)).astype('int64').shift(1).idxmax()"
   ]
  },
  {
   "cell_type": "code",
   "execution_count": 6,
   "metadata": {
    "attributes": {
     "classes": [],
     "id": "",
     "n": "6"
    }
   },
   "outputs": [],
   "source": [
    "def get_recession_end():\n",
    "    \"\"\"Return year and quarter of the recession end.\"\"\"\n",
    "    tmp = gdp.loc[get_recession_start():, 'Growth?']\n",
    "    return (tmp & tmp.shift(-1)).astype('int64').shift(2).idxmax()"
   ]
  },
  {
   "cell_type": "code",
   "execution_count": 7,
   "metadata": {
    "attributes": {
     "classes": [],
     "id": "",
     "n": "7"
    }
   },
   "outputs": [],
   "source": [
    "def get_recession_bottom():\n",
    "    \"\"\"Return year and quarter of the recession bottom.\"\"\"\n",
    "    return gdp.loc[get_recession_start():get_recession_end(), 'GDP Billions'].idxmin()"
   ]
  },
  {
   "cell_type": "code",
   "execution_count": 8,
   "metadata": {
    "attributes": {
     "classes": [],
     "id": "",
     "n": "8"
    }
   },
   "outputs": [],
   "source": [
    "def convert_housing_data_to_quarters():\n",
    "    \"\"\"Convert the housing data to quarters, and return it as mean values in a DataFrame.\"\"\"\n",
    "\n",
    "    # A few helper variables for dealing with the housing data:\n",
    "    years = [str(year) for year in range(2000, 2017)]\n",
    "    year_quarter = [y + 'q' + str(i) for y in years for i in range(1, 5)][:-1]\n",
    "    months = ['{:02d}'.format(month) for month in range(1, 13)]\n",
    "    year_month = [y + '-' + m for y in years for m in months][:-4]\n",
    "    quarter_months = {year_quarter[i]: year_month[3 * i:3 * (i + 1)] for i in range(len(year_quarter))}\n",
    "    with open('City_Zhvi_AllHomes.csv', 'r') as f:\n",
    "        col_labels = f.readline().strip().split(',')\n",
    "    col_labels = [''.join([char for char in label if char != '\\\"']) for label in col_labels]\n",
    "    usecols = [1, 2] + [i for i in range(len(col_labels)) if col_labels[i] in year_month]\n",
    "\n",
    "    # Read the housing data from 'City_Zhvi_AllHomes.csv':\n",
    "    housing = pd.read_csv(\n",
    "        'City_Zhvi_AllHomes.csv',\n",
    "        header=0,\n",
    "        usecols=usecols\n",
    "    )\n",
    "\n",
    "    housing['State'] = housing['State'].map(states)\n",
    "\n",
    "    for yq, yms in quarter_months.items():\n",
    "        housing[yq] = housing.loc[:, yms].mean(axis=1)\n",
    "        housing.drop(columns=yms, inplace=True)\n",
    "        #housing.drop(yms, axis=1, inplace=True)\n",
    "\n",
    "    housing.set_index(['State', 'RegionName'], inplace=True)\n",
    "\n",
    "    return housing"
   ]
  },
  {
   "cell_type": "code",
   "execution_count": 9,
   "metadata": {
    "attributes": {
     "classes": [],
     "id": "",
     "n": "9"
    }
   },
   "outputs": [],
   "source": [
    "def run_ttest():\n",
    "\n",
    "    housing = convert_housing_data_to_quarters()\n",
    "    quarter_before_recession = housing.columns.get_loc(get_recession_start()) - 1\n",
    "    price_ratio = housing.iloc[:, quarter_before_recession].div(housing[get_recession_bottom()])\n",
    "\n",
    "    price_ratio_uni = pd.merge(\n",
    "        get_list_of_university_towns(),\n",
    "        price_ratio.reset_index(),\n",
    "        on=['State', 'RegionName']\n",
    "    ).set_index(['State', 'RegionName']).iloc[:, 0]\n",
    "    price_ratio_non_uni = price_ratio.drop(index=price_ratio_uni.index)\n",
    "    #price_ratio_non_uni = price_ratio.drop(price_ratio_uni.index, axis=0)\n",
    "\n",
    "    ttest_res = ttest_ind(price_ratio_uni, price_ratio_non_uni, nan_policy='omit')\n",
    "    p = ttest_res[1]\n",
    "    different = True if p < 0.01 else False\n",
    "    better = \"university town\" if price_ratio_uni.mean() < price_ratio_non_uni.mean() else \"non-university town\"\n",
    "    return different, p, better"
   ]
  },
  {
   "cell_type": "code",
   "execution_count": 10,
   "metadata": {
    "attributes": {
     "classes": [],
     "id": "",
     "n": "10"
    }
   },
   "outputs": [
    {
     "data": {
      "text/plain": [
       "(True, 0.002724063704753125, 'university town')"
      ]
     },
     "execution_count": 10,
     "metadata": {},
     "output_type": "execute_result"
    }
   ],
   "source": [
    "run_ttest()"
   ]
  }
 ],
 "metadata": {
  "kernelspec": {
   "display_name": "Python 3",
   "language": "python",
   "name": "python3"
  },
  "language_info": {
   "codemirror_mode": {
    "name": "ipython",
    "version": 3
   },
   "file_extension": ".py",
   "mimetype": "text/x-python",
   "name": "python",
   "nbconvert_exporter": "python",
   "pygments_lexer": "ipython3",
   "version": "3.8.5"
  }
 },
 "nbformat": 4,
 "nbformat_minor": 4
}
